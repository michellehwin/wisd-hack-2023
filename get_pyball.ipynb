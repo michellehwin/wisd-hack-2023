{
 "cells": [
  {
   "cell_type": "code",
   "execution_count": null,
   "metadata": {},
   "outputs": [],
   "source": [
    "# ids of games in games/ folder\n",
    "game_ids = ['0042100301','0042100304','0042100307','0042100313','0042100401','0042100404','0042100302','0042100305','0042100311','0042100314','0042100402','0042100405','0042100303','0042100306','0042100312','0042100315','0042100403','0042100406']\n",
    "\n",
    "import json\n",
    "import pandas as pd\n",
    "from py_ball import playbyplay\n",
    "\n",
    "#### Pull PBP ####\n",
    "# Header information to pass along to the stats.nba.com API to make it play nicely\n",
    "HEADERS = {'Connection': 'keep-alive',\n",
    "           'Host': 'stats.nba.com',\n",
    "           'Origin': 'http://stats.nba.com',\n",
    "           'Upgrade-Insecure-Requests': '1',\n",
    "           'Referer': 'stats.nba.com',\n",
    "           'x-nba-stats-origin': 'stats',\n",
    "           'x-nba-stats-token': 'true',\n",
    "           'Accept-Language': 'en-US,en;q=0.9',\n",
    "           \"X-NewRelic-ID\": \"VQECWF5UChAHUlNTBwgBVw==\",\n",
    "           'User-Agent': 'Mozilla/5.0 (Macintosh; Intel Mac OS X 10_14_6)' +\\\n",
    "                         ' AppleWebKit/537.36 (KHTML, like Gecko)' + \\\n",
    "                         ' Chrome/81.0.4044.129 Safari/537.36'}\n",
    "\n",
    "#game_id = '0042100301'\n",
    "\n",
    "for game_id in game_ids:\n",
    "    plays = playbyplay.PlayByPlay(headers=HEADERS,\n",
    "                                endpoint='playbyplayv2',\n",
    "                                game_id=game_id)\n",
    "\n",
    "    play_df = pd.DataFrame(plays.data['PlayByPlay'])\n",
    "\n",
    "    #### Load in event data ####\n",
    "    # Assuming the event files are stored in a \"tracking_data\" subdirectory\n",
    "    file_path = f\"./games/{game_id}/{game_id}_events.jsonl\"\n",
    "\n",
    "    # Open .jsonl\n",
    "    with open(file_path, 'r') as f:\n",
    "        json_list = list(f)\n",
    "\n",
    "    # Unpack .jsonl file\n",
    "    event_list = []\n",
    "    for json_str in json_list:\n",
    "        result = json.loads(json_str)\n",
    "        event_list.append(result)\n",
    "\n",
    "    # Create an event DataFrame\n",
    "    event_df = pd.DataFrame(event_list)\n",
    "    event_df.head()\n",
    "\n",
    "    # Join events to play-by-play\n",
    "    # Some events occur in between discrete play-by-play, so we'll do a left join here\n",
    "    joint_df = event_df.merge(play_df, left_on=\"pbpId\",right_on=\"EVENTNUM\", how=\"left\")\n",
    "    joint_df.to_csv(f'./games/{game_id}/{game_id}_pyball.csv')"
   ]
  },
  {
   "attachments": {},
   "cell_type": "markdown",
   "metadata": {},
   "source": [
    "everything below is from the example code. only run the above cells to generate all CSVs containing pyball info"
   ]
  },
  {
   "cell_type": "code",
   "execution_count": 12,
   "metadata": {},
   "outputs": [
    {
     "name": "stdout",
     "output_type": "stream",
     "text": [
      "playdf 458\n",
      "eventdf 3610\n"
     ]
    }
   ],
   "source": [
    "print(f'playdf {len(play_df.index)}')\n",
    "print(f'eventdf {len(event_df.index)}')\n",
    "play_df.head()"
   ]
  },
  {
   "cell_type": "code",
   "execution_count": 13,
   "metadata": {},
   "outputs": [
    {
     "data": {
      "text/html": [
       "<div>\n",
       "<style scoped>\n",
       "    .dataframe tbody tr th:only-of-type {\n",
       "        vertical-align: middle;\n",
       "    }\n",
       "\n",
       "    .dataframe tbody tr th {\n",
       "        vertical-align: top;\n",
       "    }\n",
       "\n",
       "    .dataframe thead th {\n",
       "        text-align: right;\n",
       "    }\n",
       "</style>\n",
       "<table border=\"1\" class=\"dataframe\">\n",
       "  <thead>\n",
       "    <tr style=\"text-align: right;\">\n",
       "      <th></th>\n",
       "      <th>eventType</th>\n",
       "      <th>shotClock</th>\n",
       "      <th>gameClock</th>\n",
       "      <th>VISITORDESCRIPTION</th>\n",
       "      <th>PCTIMESTRING</th>\n",
       "    </tr>\n",
       "  </thead>\n",
       "  <tbody>\n",
       "    <tr>\n",
       "      <th>24</th>\n",
       "      <td>PASS</td>\n",
       "      <td>8.2</td>\n",
       "      <td>703.24</td>\n",
       "      <td>Williams 25' 3PT Step Back Jump Shot (3 PTS) (...</td>\n",
       "      <td>11:39</td>\n",
       "    </tr>\n",
       "    <tr>\n",
       "      <th>27</th>\n",
       "      <td>SHOT</td>\n",
       "      <td>5.9</td>\n",
       "      <td>700.96</td>\n",
       "      <td>Williams 25' 3PT Step Back Jump Shot (3 PTS) (...</td>\n",
       "      <td>11:39</td>\n",
       "    </tr>\n",
       "  </tbody>\n",
       "</table>\n",
       "</div>"
      ],
      "text/plain": [
       "   eventType  shotClock  gameClock  \\\n",
       "24      PASS        8.2     703.24   \n",
       "27      SHOT        5.9     700.96   \n",
       "\n",
       "                                   VISITORDESCRIPTION PCTIMESTRING  \n",
       "24  Williams 25' 3PT Step Back Jump Shot (3 PTS) (...        11:39  \n",
       "27  Williams 25' 3PT Step Back Jump Shot (3 PTS) (...        11:39  "
      ]
     },
     "execution_count": 13,
     "metadata": {},
     "output_type": "execute_result"
    }
   ],
   "source": [
    "# Join events to play-by-play\n",
    "# Some events occur in between discrete play-by-play, so we'll do a left join here\n",
    "joint_df = event_df.merge(play_df, left_on=\"pbpId\", right_on=\"EVENTNUM\", how=\"left\")\n",
    "\n",
    "# And you can check out some events mapped to a play-by-play event\n",
    "# Here's a pass from Jayson Tatum to Grant Williams for a successful three-point FG attempt\n",
    "joint_df[joint_df[\"pbpId\"]==7][[\"eventType\", \"shotClock\", \"gameClock\", \"VISITORDESCRIPTION\", \"PCTIMESTRING\"]]"
   ]
  },
  {
   "cell_type": "code",
   "execution_count": 15,
   "metadata": {},
   "outputs": [],
   "source": [
    "joint_df.head()\n",
    "joint_df.to_csv('joint.csv')"
   ]
  }
 ],
 "metadata": {
  "kernelspec": {
   "display_name": "venv",
   "language": "python",
   "name": "python3"
  },
  "language_info": {
   "codemirror_mode": {
    "name": "ipython",
    "version": 3
   },
   "file_extension": ".py",
   "mimetype": "text/x-python",
   "name": "python",
   "nbconvert_exporter": "python",
   "pygments_lexer": "ipython3",
   "version": "3.11.4"
  },
  "orig_nbformat": 4
 },
 "nbformat": 4,
 "nbformat_minor": 2
}
