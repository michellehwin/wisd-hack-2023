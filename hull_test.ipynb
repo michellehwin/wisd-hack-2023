{
 "cells": [
  {
   "cell_type": "code",
   "execution_count": null,
   "metadata": {},
   "outputs": [],
   "source": [
    "from shapely.geometry import MultiPoint\n",
    "import pandas as pd"
   ]
  },
  {
   "cell_type": "code",
   "execution_count": null,
   "metadata": {},
   "outputs": [],
   "source": [
    "# shots and tracking df for one game\n",
    "df = pd.read_csv('joint.csv', index_col=0)\n",
    "shot_df = df[df['eventType'] == \"SHOT\"]\n",
    "print(len(shot_df))\n",
    "\n",
    "tracking_df = pd.read_json(\n",
    "    \"games/0042100301/0042100301_tracking.jsonl\", lines=True)\n",
    "print(len(tracking_df))\n",
    "print(len(shot_df))\n",
    "\n",
    "# merge the event and tracking data on the wallclock\n",
    "shots_tracking_df = pd.merge(\n",
    "    shot_df, tracking_df, on='wallClock', how='inner', suffixes=('_event', '_tracking'))\n"
   ]
  },
  {
   "cell_type": "code",
   "execution_count": null,
   "metadata": {},
   "outputs": [],
   "source": [
    "# convex hullll\n",
    "\n",
    "def calc_hull(row, team):\n",
    "    player_coords = []\n",
    "    for player in row[f'{team}Players_tracking']:\n",
    "        player_coords.append(player['xyz'])\n",
    "    multipoint = MultiPoint(player_coords)\n",
    "    convex_hull = multipoint.convex_hull\n",
    "    return convex_hull.area\n",
    "\n",
    "\n",
    "shots_tracking_df['home_hull'] = shots_tracking_df.apply(\n",
    "    lambda row: calc_hull(row, 'home'), axis=1)\n",
    "shots_tracking_df['away_hull'] = shots_tracking_df.apply(\n",
    "    lambda row: calc_hull(row, 'away'), axis=1)\n",
    "\n",
    "print(shots_tracking_df[['home_hull', 'away_hull']].to_string())\n"
   ]
  }
 ],
 "metadata": {
  "language_info": {
   "name": "python"
  },
  "orig_nbformat": 4
 },
 "nbformat": 4,
 "nbformat_minor": 2
}
