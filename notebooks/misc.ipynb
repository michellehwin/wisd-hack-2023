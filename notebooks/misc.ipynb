{
 "cells": [
  {
   "cell_type": "code",
   "execution_count": 1,
   "metadata": {},
   "outputs": [
    {
     "name": "stdout",
     "output_type": "stream",
     "text": [
      "05/17/2022, 8:46:38 PM\n"
     ]
    }
   ],
   "source": [
    "# wallclock to datetime example\n",
    "from datetime import datetime\n",
    "\n",
    "# this wallclock value is taken from game 42100301 (heat vs celtics eastern conf finals game 1)\n",
    "# that game was played on may 17, 2022 8:30 pm ET\n",
    "\n",
    "wallclock = 1652834798699  # wallclock is given in ms since the Unix epoch\n",
    "\n",
    "# fromtimestamp() will return the datetime in your computer's local time (i think)\n",
    "# divide by 1000 because wallclock is in ms and fromtimestamp() takes seconds\n",
    "datetime_obj = datetime.fromtimestamp(wallclock / 1000)\n",
    "\n",
    "# using strftime: https://www.programiz.com/python-programming/datetime/strftime\n",
    "print(datetime_obj.strftime(\"%m/%d/%Y, %-I:%M:%S %p\"))"
   ]
  }
 ],
 "metadata": {
  "kernelspec": {
   "display_name": "venv",
   "language": "python",
   "name": "python3"
  },
  "language_info": {
   "codemirror_mode": {
    "name": "ipython",
    "version": 3
   },
   "file_extension": ".py",
   "mimetype": "text/x-python",
   "name": "python",
   "nbconvert_exporter": "python",
   "pygments_lexer": "ipython3",
   "version": "3.11.3"
  },
  "orig_nbformat": 4
 },
 "nbformat": 4,
 "nbformat_minor": 2
}
