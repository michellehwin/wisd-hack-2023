{
 "cells": [
  {
   "cell_type": "code",
   "execution_count": null,
   "metadata": {},
   "outputs": [],
   "source": [
    "# import function from distance notebook\n",
    "from ipynb.fs.defs.distance import away_or_home\n",
    "from matplotlib.animation import FuncAnimation\n",
    "import pandas as pd\n",
    "import matplotlib.pyplot as plt\n",
    "import numpy as np\n",
    "import os\n",
    "%matplotlib widget\n"
   ]
  },
  {
   "cell_type": "code",
   "execution_count": null,
   "metadata": {},
   "outputs": [],
   "source": [
    "#  e_t = events and tracking\n",
    "def create_gif(row, frame_cnt, game_id, e_t_df):\n",
    "    hull_dif = round(row[\"hull_diff\"],2)\n",
    "    start_frame = row[\"EVENTNUM\"]\n",
    "    start_row_index = e_t_df.loc[e_t_df['EVENTNUM'] == start_frame].index[0]\n",
    "    print(start_row_index)\n",
    "    gif_name = f\"./gifs/{game_id}/SHOT_{start_row_index}\"\n",
    "    fig = plt.figure()\n",
    "    # 2nd spectrum coord system has these limits, source: WISD instructions\n",
    "    ax = plt.axes(xlim=(-47, 47), ylim=(-25, 25))\n",
    "\n",
    "    home_scat = ax.scatter([], [])\n",
    "    away_scat = ax.scatter([], [])\n",
    "    ball_scat = ax.scatter([], [])\n",
    "    home_scat.set_color('red')\n",
    "    away_scat.set_color('blue')\n",
    "    ball_scat.set_color('orange')\n",
    "\n",
    "    def plot_players(i):\n",
    "        i += start_row_index -10\n",
    "        plot_row = e_t_df.iloc[i]\n",
    "        home_coords = [x['xyz']\n",
    "                       for x in eval(plot_row['homePlayers_tracking'])]\n",
    "        home_coords = np.array(home_coords)\n",
    "        home_scat.set_offsets(home_coords)\n",
    "        away_coords = np.array([x['xyz']\n",
    "                               for x in eval(plot_row['awayPlayers_tracking'])])\n",
    "        away_scat.set_offsets(away_coords)\n",
    "        ball_coords = eval(plot_row['ball'])\n",
    "        ball_scat.set_offsets([ball_coords])\n",
    "\n",
    "        ax.set_xlabel(\n",
    "            f'frame {plot_row.name}, {plot_row[\"eventType\"]}, hull diff: {hull_dif}', fontsize=12)\n",
    "        return home_scat, away_scat, ball_scat\n",
    "\n",
    "    ani = FuncAnimation(fig, plot_players, frames=frame_cnt, repeat=False)\n",
    "    ani.save(f'{gif_name}.gif')\n"
   ]
  },
  {
   "cell_type": "code",
   "execution_count": null,
   "metadata": {},
   "outputs": [],
   "source": [
    "game_ids = ['0042100301', '0042100304', '0042100307', '0042100313', '0042100401', '0042100404', '0042100302', '0042100305', '0042100311',\n",
    "            '0042100314', '0042100402', '0042100405', '0042100303', '0042100306', '0042100312', '0042100315', '0042100403', '0042100406']\n",
    "# I generated this file in distance.ipynb\n",
    "# events and tracking csv\n",
    "for game_id in game_ids:\n",
    "    e_t_df = pd.read_csv(f\"./games/{game_id}/{game_id}_e_t.csv\", index_col=0)\n",
    "    top_df = pd.read_csv(f\"./games/{game_id}/{game_id}_top.csv\")\n",
    "    top_df = top_df.head(5)\n",
    "\n",
    "    gif_folder = fr'/Users/mwin/Desktop/Code/wisd hackathon 2023/gifs/{game_id}'\n",
    "    if not os.path.exists(gif_folder):\n",
    "        os.makedirs(gif_folder)\n",
    "    top_df.apply(create_gif, axis=1, args=(20, game_id, e_t_df))\n",
    "    break\n"
   ]
  }
 ],
 "metadata": {
  "kernelspec": {
   "display_name": "venv",
   "language": "python",
   "name": "python3"
  },
  "language_info": {
   "codemirror_mode": {
    "name": "ipython",
    "version": 3
   },
   "file_extension": ".py",
   "mimetype": "text/x-python",
   "name": "python",
   "nbconvert_exporter": "python",
   "pygments_lexer": "ipython3",
   "version": "3.11.3"
  },
  "orig_nbformat": 4
 },
 "nbformat": 4,
 "nbformat_minor": 2
}
