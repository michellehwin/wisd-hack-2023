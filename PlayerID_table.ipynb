{
 "cells": [
  {
   "cell_type": "code",
   "execution_count": 1,
   "id": "47fde5ac",
   "metadata": {},
   "outputs": [],
   "source": [
    "import json\n",
    "import pandas as pd"
   ]
  },
  {
   "cell_type": "code",
   "execution_count": 2,
   "id": "86b11a2d",
   "metadata": {},
   "outputs": [],
   "source": [
    "from nba_api.stats.static  import players\n",
    "player_dict = players.get_active_players()"
   ]
  },
  {
   "cell_type": "code",
   "execution_count": 3,
   "id": "fddc9d95",
   "metadata": {},
   "outputs": [],
   "source": [
    "from nba_api.stats.endpoints import commonplayerinfo\n",
    "\n",
    "#initialize empty lists that will put player id into\n",
    "player_names = []\n",
    "player_ids = []\n",
    "for player in player_dict:\n",
    "    pID = players.find_players_by_full_name(player['full_name'])[0]['id']\n",
    "    player_names.append(player['full_name'])\n",
    "    player_ids.append(pID)"
   ]
  },
  {
   "cell_type": "code",
   "execution_count": 4,
   "id": "7664b67d",
   "metadata": {},
   "outputs": [
    {
     "data": {
      "text/html": [
       "<div>\n",
       "<style scoped>\n",
       "    .dataframe tbody tr th:only-of-type {\n",
       "        vertical-align: middle;\n",
       "    }\n",
       "\n",
       "    .dataframe tbody tr th {\n",
       "        vertical-align: top;\n",
       "    }\n",
       "\n",
       "    .dataframe thead th {\n",
       "        text-align: right;\n",
       "    }\n",
       "</style>\n",
       "<table border=\"1\" class=\"dataframe\">\n",
       "  <thead>\n",
       "    <tr style=\"text-align: right;\">\n",
       "      <th></th>\n",
       "      <th>playerId</th>\n",
       "      <th>name</th>\n",
       "    </tr>\n",
       "  </thead>\n",
       "  <tbody>\n",
       "    <tr>\n",
       "      <th>0</th>\n",
       "      <td>1630173</td>\n",
       "      <td>Precious Achiuwa</td>\n",
       "    </tr>\n",
       "    <tr>\n",
       "      <th>1</th>\n",
       "      <td>203500</td>\n",
       "      <td>Steven Adams</td>\n",
       "    </tr>\n",
       "    <tr>\n",
       "      <th>2</th>\n",
       "      <td>1628389</td>\n",
       "      <td>Bam Adebayo</td>\n",
       "    </tr>\n",
       "    <tr>\n",
       "      <th>3</th>\n",
       "      <td>1630534</td>\n",
       "      <td>Ochai Agbaji</td>\n",
       "    </tr>\n",
       "    <tr>\n",
       "      <th>4</th>\n",
       "      <td>1630583</td>\n",
       "      <td>Santi Aldama</td>\n",
       "    </tr>\n",
       "    <tr>\n",
       "      <th>...</th>\n",
       "      <td>...</td>\n",
       "      <td>...</td>\n",
       "    </tr>\n",
       "    <tr>\n",
       "      <th>530</th>\n",
       "      <td>201152</td>\n",
       "      <td>Thaddeus Young</td>\n",
       "    </tr>\n",
       "    <tr>\n",
       "      <th>531</th>\n",
       "      <td>1629027</td>\n",
       "      <td>Trae Young</td>\n",
       "    </tr>\n",
       "    <tr>\n",
       "      <th>532</th>\n",
       "      <td>1630209</td>\n",
       "      <td>Omer Yurtseven</td>\n",
       "    </tr>\n",
       "    <tr>\n",
       "      <th>533</th>\n",
       "      <td>203469</td>\n",
       "      <td>Cody Zeller</td>\n",
       "    </tr>\n",
       "    <tr>\n",
       "      <th>534</th>\n",
       "      <td>1627826</td>\n",
       "      <td>Ivica Zubac</td>\n",
       "    </tr>\n",
       "  </tbody>\n",
       "</table>\n",
       "<p>535 rows × 2 columns</p>\n",
       "</div>"
      ],
      "text/plain": [
       "     playerId              name\n",
       "0     1630173  Precious Achiuwa\n",
       "1      203500      Steven Adams\n",
       "2     1628389       Bam Adebayo\n",
       "3     1630534      Ochai Agbaji\n",
       "4     1630583      Santi Aldama\n",
       "..        ...               ...\n",
       "530    201152    Thaddeus Young\n",
       "531   1629027        Trae Young\n",
       "532   1630209    Omer Yurtseven\n",
       "533    203469       Cody Zeller\n",
       "534   1627826       Ivica Zubac\n",
       "\n",
       "[535 rows x 2 columns]"
      ]
     },
     "execution_count": 4,
     "metadata": {},
     "output_type": "execute_result"
    }
   ],
   "source": [
    "df = pd.DataFrame()\n",
    "df['playerId'] = player_ids\n",
    "df['name'] = player_names\n",
    "df"
   ]
  },
  {
   "cell_type": "code",
   "execution_count": 5,
   "id": "c5c70b3c",
   "metadata": {},
   "outputs": [],
   "source": [
    "statheadDF = pd.read_csv('sportsref_download.csv')\n",
    "statheadDF.rename(columns={'Player':'name'}, inplace=True)"
   ]
  },
  {
   "cell_type": "code",
   "execution_count": 6,
   "id": "e4dcb8bd",
   "metadata": {},
   "outputs": [],
   "source": [
    "newDF = pd.merge(df, statheadDF, on='name', how='outer')\n",
    "# jersey number, team - active players"
   ]
  },
  {
   "cell_type": "code",
   "execution_count": 7,
   "id": "b4b468a2",
   "metadata": {},
   "outputs": [],
   "source": [
    "newDF.to_csv('players_career_stats.csv')"
   ]
  }
 ],
 "metadata": {
  "kernelspec": {
   "display_name": "Python 3 (ipykernel)",
   "language": "python",
   "name": "python3"
  },
  "language_info": {
   "codemirror_mode": {
    "name": "ipython",
    "version": 3
   },
   "file_extension": ".py",
   "mimetype": "text/x-python",
   "name": "python",
   "nbconvert_exporter": "python",
   "pygments_lexer": "ipython3",
   "version": "3.10.6"
  }
 },
 "nbformat": 4,
 "nbformat_minor": 5
}
