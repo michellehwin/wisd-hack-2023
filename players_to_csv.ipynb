{
 "cells": [
  {
   "cell_type": "code",
   "execution_count": 4,
   "id": "81f5c680",
   "metadata": {},
   "outputs": [],
   "source": [
    "import json\n",
    "import pandas as pd"
   ]
  },
  {
   "cell_type": "code",
   "execution_count": 6,
   "id": "216ad528",
   "metadata": {},
   "outputs": [
    {
     "data": {
      "text/plain": [
       "\"\\nteams_file = open('metadata/teams.json')\\nteams_json = json.load(teams_file)\\ndata=[]\\nfor game in teams_json['teams']:\\n    data.append(game)\\n\\nteams_df=pd.DataFrame(data)\\n  \\nteams_file.close()\\n\""
      ]
     },
     "execution_count": 6,
     "metadata": {},
     "output_type": "execute_result"
    }
   ],
   "source": [
    "players_file = open('players.json')\n",
    "players_json = json.load(players_file)\n",
    "data=[]\n",
    "\n",
    "for player in players_json['players']:\n",
    "    data.append(player)\n",
    "\n",
    "\n",
    "players_df = pd.DataFrame(data)\n",
    "  \n",
    "players_file.close()\n",
    "\n",
    "'''\n",
    "teams_file = open('metadata/teams.json')\n",
    "teams_json = json.load(teams_file)\n",
    "data=[]\n",
    "for game in teams_json['teams']:\n",
    "    data.append(game)\n",
    "\n",
    "teams_df=pd.DataFrame(data)\n",
    "  \n",
    "teams_file.close()\n",
    "'''"
   ]
  },
  {
   "cell_type": "code",
   "execution_count": 9,
   "id": "53c08201",
   "metadata": {},
   "outputs": [
    {
     "data": {
      "text/html": [
       "<div>\n",
       "<style scoped>\n",
       "    .dataframe tbody tr th:only-of-type {\n",
       "        vertical-align: middle;\n",
       "    }\n",
       "\n",
       "    .dataframe tbody tr th {\n",
       "        vertical-align: top;\n",
       "    }\n",
       "\n",
       "    .dataframe thead th {\n",
       "        text-align: right;\n",
       "    }\n",
       "</style>\n",
       "<table border=\"1\" class=\"dataframe\">\n",
       "  <thead>\n",
       "    <tr style=\"text-align: right;\">\n",
       "      <th></th>\n",
       "      <th>id</th>\n",
       "      <th>firstName</th>\n",
       "      <th>lastName</th>\n",
       "      <th>nbaId</th>\n",
       "      <th>height</th>\n",
       "      <th>weight</th>\n",
       "      <th>position</th>\n",
       "    </tr>\n",
       "  </thead>\n",
       "  <tbody>\n",
       "    <tr>\n",
       "      <th>0</th>\n",
       "      <td>ff415697-89ef-11e6-a31e-a45e60e298d3</td>\n",
       "      <td>Aaron</td>\n",
       "      <td>Brooks</td>\n",
       "      <td>201166</td>\n",
       "      <td>72.0</td>\n",
       "      <td>161.0</td>\n",
       "      <td>G</td>\n",
       "    </tr>\n",
       "    <tr>\n",
       "      <th>1</th>\n",
       "      <td>ff42ec5e-89ef-11e6-96c8-a45e60e298d3</td>\n",
       "      <td>Aaron</td>\n",
       "      <td>Gordon</td>\n",
       "      <td>203932</td>\n",
       "      <td>80.0</td>\n",
       "      <td>235.0</td>\n",
       "      <td>F</td>\n",
       "    </tr>\n",
       "    <tr>\n",
       "      <th>2</th>\n",
       "      <td>ff4020d4-89ef-11e6-af09-a45e60e298d3</td>\n",
       "      <td>Aaron</td>\n",
       "      <td>Gray</td>\n",
       "      <td>201189</td>\n",
       "      <td>84.0</td>\n",
       "      <td>270.0</td>\n",
       "      <td>C</td>\n",
       "    </tr>\n",
       "    <tr>\n",
       "      <th>3</th>\n",
       "      <td>ff4199f8-89ef-11e6-854d-a45e60e298d3</td>\n",
       "      <td>Aaron</td>\n",
       "      <td>Harrison</td>\n",
       "      <td>1626151</td>\n",
       "      <td>78.0</td>\n",
       "      <td>210.0</td>\n",
       "      <td>G</td>\n",
       "    </tr>\n",
       "    <tr>\n",
       "      <th>4</th>\n",
       "      <td>c9b3e617-4bd6-4399-970f-b84358a6783f</td>\n",
       "      <td>Aaron</td>\n",
       "      <td>Henry</td>\n",
       "      <td>1630565</td>\n",
       "      <td>77.0</td>\n",
       "      <td>210.0</td>\n",
       "      <td>F</td>\n",
       "    </tr>\n",
       "  </tbody>\n",
       "</table>\n",
       "</div>"
      ],
      "text/plain": [
       "                                     id firstName  lastName    nbaId  height   \n",
       "0  ff415697-89ef-11e6-a31e-a45e60e298d3     Aaron    Brooks   201166    72.0  \\\n",
       "1  ff42ec5e-89ef-11e6-96c8-a45e60e298d3     Aaron    Gordon   203932    80.0   \n",
       "2  ff4020d4-89ef-11e6-af09-a45e60e298d3     Aaron      Gray   201189    84.0   \n",
       "3  ff4199f8-89ef-11e6-854d-a45e60e298d3     Aaron  Harrison  1626151    78.0   \n",
       "4  c9b3e617-4bd6-4399-970f-b84358a6783f     Aaron     Henry  1630565    77.0   \n",
       "\n",
       "   weight position  \n",
       "0   161.0        G  \n",
       "1   235.0        F  \n",
       "2   270.0        C  \n",
       "3   210.0        G  \n",
       "4   210.0        F  "
      ]
     },
     "execution_count": 9,
     "metadata": {},
     "output_type": "execute_result"
    }
   ],
   "source": [
    "players_df.drop(columns=['dob'],inplace=True)\n",
    "players_df.head()"
   ]
  },
  {
   "cell_type": "code",
   "execution_count": 10,
   "id": "2bdd3000",
   "metadata": {},
   "outputs": [],
   "source": [
    "players_df.to_csv('players_info.csv')"
   ]
  },
  {
   "cell_type": "code",
   "execution_count": null,
   "id": "33aa7157",
   "metadata": {},
   "outputs": [],
   "source": []
  }
 ],
 "metadata": {
  "kernelspec": {
   "display_name": "Python 3 (ipykernel)",
   "language": "python",
   "name": "python3"
  },
  "language_info": {
   "codemirror_mode": {
    "name": "ipython",
    "version": 3
   },
   "file_extension": ".py",
   "mimetype": "text/x-python",
   "name": "python",
   "nbconvert_exporter": "python",
   "pygments_lexer": "ipython3",
   "version": "3.10.6"
  }
 },
 "nbformat": 4,
 "nbformat_minor": 5
}
